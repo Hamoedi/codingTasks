{
 "cells": [
  {
   "cell_type": "markdown",
   "id": "ed438fe3",
   "metadata": {},
   "source": [
    "\n",
    "# Logistic Regression on Iris Dataset\n",
    "\n"
   ]
  },
  {
   "cell_type": "code",
   "execution_count": 1,
   "id": "b6ae4270",
   "metadata": {},
   "outputs": [
    {
     "data": {
      "text/html": [
       "<div>\n",
       "<style scoped>\n",
       "    .dataframe tbody tr th:only-of-type {\n",
       "        vertical-align: middle;\n",
       "    }\n",
       "\n",
       "    .dataframe tbody tr th {\n",
       "        vertical-align: top;\n",
       "    }\n",
       "\n",
       "    .dataframe thead th {\n",
       "        text-align: right;\n",
       "    }\n",
       "</style>\n",
       "<table border=\"1\" class=\"dataframe\">\n",
       "  <thead>\n",
       "    <tr style=\"text-align: right;\">\n",
       "      <th></th>\n",
       "      <th>Id</th>\n",
       "      <th>SepalLengthCm</th>\n",
       "      <th>SepalWidthCm</th>\n",
       "      <th>PetalLengthCm</th>\n",
       "      <th>PetalWidthCm</th>\n",
       "      <th>Species</th>\n",
       "    </tr>\n",
       "  </thead>\n",
       "  <tbody>\n",
       "    <tr>\n",
       "      <th>0</th>\n",
       "      <td>1</td>\n",
       "      <td>5.1</td>\n",
       "      <td>3.5</td>\n",
       "      <td>1.4</td>\n",
       "      <td>0.2</td>\n",
       "      <td>Iris-setosa</td>\n",
       "    </tr>\n",
       "    <tr>\n",
       "      <th>1</th>\n",
       "      <td>2</td>\n",
       "      <td>4.9</td>\n",
       "      <td>3.0</td>\n",
       "      <td>1.4</td>\n",
       "      <td>0.2</td>\n",
       "      <td>Iris-setosa</td>\n",
       "    </tr>\n",
       "    <tr>\n",
       "      <th>2</th>\n",
       "      <td>3</td>\n",
       "      <td>4.7</td>\n",
       "      <td>3.2</td>\n",
       "      <td>1.3</td>\n",
       "      <td>0.2</td>\n",
       "      <td>Iris-setosa</td>\n",
       "    </tr>\n",
       "    <tr>\n",
       "      <th>3</th>\n",
       "      <td>4</td>\n",
       "      <td>4.6</td>\n",
       "      <td>3.1</td>\n",
       "      <td>1.5</td>\n",
       "      <td>0.2</td>\n",
       "      <td>Iris-setosa</td>\n",
       "    </tr>\n",
       "    <tr>\n",
       "      <th>4</th>\n",
       "      <td>5</td>\n",
       "      <td>5.0</td>\n",
       "      <td>3.6</td>\n",
       "      <td>1.4</td>\n",
       "      <td>0.2</td>\n",
       "      <td>Iris-setosa</td>\n",
       "    </tr>\n",
       "  </tbody>\n",
       "</table>\n",
       "</div>"
      ],
      "text/plain": [
       "   Id  SepalLengthCm  SepalWidthCm  PetalLengthCm  PetalWidthCm      Species\n",
       "0   1            5.1           3.5            1.4           0.2  Iris-setosa\n",
       "1   2            4.9           3.0            1.4           0.2  Iris-setosa\n",
       "2   3            4.7           3.2            1.3           0.2  Iris-setosa\n",
       "3   4            4.6           3.1            1.5           0.2  Iris-setosa\n",
       "4   5            5.0           3.6            1.4           0.2  Iris-setosa"
      ]
     },
     "execution_count": 1,
     "metadata": {},
     "output_type": "execute_result"
    }
   ],
   "source": [
    "\n",
    "# Import necessary libraries\n",
    "import pandas as pd\n",
    "import numpy as np\n",
    "import matplotlib.pyplot as plt\n",
    "import seaborn as sns\n",
    "from sklearn.model_selection import train_test_split\n",
    "from sklearn.preprocessing import StandardScaler\n",
    "from sklearn.linear_model import LogisticRegression\n",
    "from sklearn.metrics import confusion_matrix, classification_report\n",
    "from sklearn.metrics import precision_score, recall_score, accuracy_score\n",
    "\n",
    "# Load the dataset (Ensure Iris.csv is in the same directory as this notebook)\n",
    "iris_df = pd.read_csv(\"Iris.csv\")\n",
    "\n",
    "# Display first few rows of the dataset\n",
    "iris_df.head()\n"
   ]
  },
  {
   "cell_type": "code",
   "execution_count": 2,
   "id": "8157510b",
   "metadata": {},
   "outputs": [
    {
     "data": {
      "text/plain": [
       "Species\n",
       "1    100\n",
       "0     50\n",
       "Name: count, dtype: int64"
      ]
     },
     "execution_count": 2,
     "metadata": {},
     "output_type": "execute_result"
    }
   ],
   "source": [
    "\n",
    "# Encode the target variable\n",
    "iris_df['Species'] = iris_df['Species'].apply(lambda x: 0 if x == 'Iris-setosa' else 1)\n",
    "\n",
    "# Define independent (X) and dependent (y) variables\n",
    "X = iris_df.drop(columns=['Id', 'Species'])\n",
    "y = iris_df['Species']\n",
    "\n",
    "# Display unique values in y to confirm encoding\n",
    "y.value_counts()\n"
   ]
  },
  {
   "cell_type": "code",
   "execution_count": 3,
   "id": "5a25bb9a",
   "metadata": {},
   "outputs": [],
   "source": [
    "\n",
    "# Split the dataset into training and test sets (80% train, 20% test)\n",
    "X_train, X_test, y_train, y_test = train_test_split(X, y, test_size=0.2, random_state=42, stratify=y)\n",
    "\n",
    "# Standardize the features for better performance\n",
    "scaler = StandardScaler()\n",
    "X_train = scaler.fit_transform(X_train)\n",
    "X_test = scaler.transform(X_test)\n"
   ]
  },
  {
   "cell_type": "code",
   "execution_count": 4,
   "id": "a430015e",
   "metadata": {},
   "outputs": [
    {
     "name": "stdout",
     "output_type": "stream",
     "text": [
      "[1 1 1 0 1 1 1 0 1 1 0 0 0 1 1 0 1 0 1 0 1 1 0 0 1 1 1 1 1 1]\n"
     ]
    }
   ],
   "source": [
    "\n",
    "# Train the logistic regression model\n",
    "model = LogisticRegression()\n",
    "model.fit(X_train, y_train)\n",
    "\n",
    "# Make predictions on the test set\n",
    "y_pred = model.predict(X_test)\n",
    "\n",
    "print(y_pred)\n"
   ]
  },
  {
   "cell_type": "code",
   "execution_count": 5,
   "id": "31c06570",
   "metadata": {},
   "outputs": [
    {
     "data": {
      "image/png": "[encoded data removed]",
      "text/plain": [
       "<Figure size 500x400 with 2 Axes>"
      ]
     },
     "metadata": {},
     "output_type": "display_data"
    },
    {
     "name": "stdout",
     "output_type": "stream",
     "text": [
      "Classification Report:               precision    recall  f1-score   support\n",
      "\n",
      "           0       1.00      1.00      1.00        10\n",
      "           1       1.00      1.00      1.00        20\n",
      "\n",
      "    accuracy                           1.00        30\n",
      "   macro avg       1.00      1.00      1.00        30\n",
      "weighted avg       1.00      1.00      1.00        30\n",
      "\n",
      "Overall Accuracy: 1.0000\n"
     ]
    }
   ],
   "source": [
    "# Generate confusion matrix\n",
    "conf_matrix = confusion_matrix(y_test, y_pred)\n",
    "\n",
    "# Plot confusion matrix\n",
    "plt.figure(figsize=(5, 4))\n",
    "sns.heatmap(conf_matrix, annot=True, cmap='Blues', fmt='d', xticklabels=[\"Iris-setosa\", \"Not Iris-setosa\"], yticklabels=[\"Iris-setosa\", \"Not Iris-setosa\"])\n",
    "plt.xlabel(\"Predicted Label\")\n",
    "plt.ylabel(\"Actual Label\")\n",
    "plt.title(\"Confusion Matrix\")\n",
    "plt.show()\n",
    "\n",
    "# Display classification report\n",
    "print(\"Classification Report:\", classification_report(y_test, y_pred))\n",
    "\n",
    "# Calculate and print overall accuracy\n",
    "accuracy = accuracy_score(y_test, y_pred)\n",
    "print(f\"Overall Accuracy: {accuracy:.4f}\")\n"
   ]
  },
  {
   "cell_type": "markdown",
   "id": "b1680f5b",
   "metadata": {},
   "source": [
    "### Analysis of Model Performance\n",
    "\n",
    "Based on the confusion matrix and classification report, the model appears to be performing perfectly. The confusion matrix shows no false positives or false negatives, and the classification report indicates precision and recall values of 1 for both classes.\n",
    "\n",
    "- **Precision**: 1.00\n",
    "- **Recall**: 1.00\n",
    "\n",
    "This means that the model has both high precision and high recall, indicating that it is correctly identifying all instances of each class without making any incorrect predictions. Therefore, the model has similar values for both precision and recall, demonstrating excellent performance on the test set."
   ]
  },
  {
   "cell_type": "markdown",
   "id": "0661a54a",
   "metadata": {},
   "source": [
    "# Manual calculations and comparison of results:"
   ]
  },
  {
   "cell_type": "code",
   "execution_count": 7,
   "id": "87a79df8",
   "metadata": {},
   "outputs": [
    {
     "name": "stdout",
     "output_type": "stream",
     "text": [
      "Manual Accuracy: 1.0000\n",
      "Manual Precision: 1.0000\n",
      "Manual Recall: 1.0000\n",
      "Scikit-learn Accuracy: 1.0000\n",
      "Scikit-learn Precision: 1.0000\n",
      "Scikit-learn Recall: 1.0000\n",
      "Manual calculations match scikit-learn's results.\n"
     ]
    }
   ],
   "source": [
    "# Manually calculate accuracy, precision, and recall\n",
    "\n",
    "# Extract values from confusion matrix\n",
    "TP = conf_matrix[0, 0]  # True Positives (Setosa correctly classified)\n",
    "FN = conf_matrix[0, 1]  # False Negatives (Setosa misclassified as not-Setosa)\n",
    "FP = conf_matrix[1, 0]  # False Positives (Not-Setosa misclassified as Setosa)\n",
    "TN = conf_matrix[1, 1]  # True Negatives (Not-Setosa correctly classified)\n",
    "\n",
    "# Compute metrics manually\n",
    "accuracy = (TP + TN) / (TP + TN + FP + FN)\n",
    "precision = TP / (TP + FP) if (TP + FP) > 0 else 0\n",
    "recall = TP / (TP + FN) if (TP + FN) > 0 else 0\n",
    "\n",
    "# Print results\n",
    "print(f\"Manual Accuracy: {accuracy:.4f}\")\n",
    "print(f\"Manual Precision: {precision:.4f}\")\n",
    "print(f\"Manual Recall: {recall:.4f}\")\n",
    "\n",
    "# Compare manual calculations with scikit-learn's results\n",
    "sklearn_accuracy = accuracy_score(y_test, y_pred)\n",
    "sklearn_precision = precision_score(y_test, y_pred)\n",
    "sklearn_recall = recall_score(y_test, y_pred)\n",
    "\n",
    "print(f\"Scikit-learn Accuracy: {sklearn_accuracy:.4f}\")\n",
    "print(f\"Scikit-learn Precision: {sklearn_precision:.4f}\")\n",
    "print(f\"Scikit-learn Recall: {sklearn_recall:.4f}\")\n",
    "\n",
    "if (accuracy == sklearn_accuracy) and (precision == sklearn_precision) and (recall == sklearn_recall):\n",
    "\tprint(\"Manual calculations match scikit-learn's results.\")\n"
   ]
  },
  {
   "cell_type": "markdown",
   "id": "99ce71d6",
   "metadata": {},
   "source": [
    "### Analysis and Summary\n",
    "\n",
    "The logistic regression model trained on the Iris dataset has demonstrated excellent performance in classifying whether a given iris flower belongs to the Iris-setosa class or not. \n",
    "\n",
    "Overall, the logistic regression model has successfully achieved the objective of accurately classifying Iris-setosa flowers, demonstrating high precision and recall, and validating the results through manual calculations."
   ]
  }
 ],
 "metadata": {
  "kernelspec": {
   "display_name": "Python 3",
   "language": "python",
   "name": "python3"
  },
  "language_info": {
   "codemirror_mode": {
    "name": "ipython",
    "version": 3
   },
   "file_extension": ".py",
   "mimetype": "text/x-python",
   "name": "python",
   "nbconvert_exporter": "python",
   "pygments_lexer": "ipython3",
   "version": "3.13.2"
  }
 },
 "nbformat": 4,
 "nbformat_minor": 5
}
